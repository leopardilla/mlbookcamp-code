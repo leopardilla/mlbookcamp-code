{
 "cells": [
  {
   "cell_type": "markdown",
   "id": "3b48a4ba",
   "metadata": {},
   "source": [
    "# 3. Machine Learning for Classification\n",
    "\n",
    "We'll use logistic regression to predict churn\n",
    "\n",
    "\n",
    "## 3.1 Churn prediction project\n",
    "\n",
    "* Dataset: https://www.kaggle.com/blastchar/telco-customer-churn\n",
    "* https://raw.githubusercontent.com/alexeygrigorev/mlbookcamp-code/master/chapter-03-churn-prediction/WA_Fn-UseC_-Telco-Customer-Churn.csv\n"
   ]
  },
  {
   "cell_type": "code",
   "execution_count": 71,
   "id": "ec74bfa6",
   "metadata": {},
   "outputs": [],
   "source": [
    "import pandas as pd\n",
    "import numpy as np\n",
    "\n",
    "import matplotlib.pyplot as plt"
   ]
  },
  {
   "cell_type": "markdown",
   "id": "4733114d",
   "metadata": {},
   "source": [
    "## Data preparation"
   ]
  },
  {
   "cell_type": "code",
   "execution_count": 74,
   "id": "b0f5bbba",
   "metadata": {},
   "outputs": [
    {
     "name": "stdout",
     "output_type": "stream",
     "text": [
      "['latitude', 'longitude', 'minimum_nights', 'number_of_reviews', 'reviews_per_month', 'calculated_host_listings_count', 'availability_365']\n"
     ]
    }
   ],
   "source": [
    "df = pd.read_csv('AB_NYC_2019.csv')\n",
    "\n",
    "df = df[[\n",
    "    'neighbourhood_group',\n",
    "    'room_type',\n",
    "    'latitude',\n",
    "    'longitude',\n",
    "    'price',\n",
    "    'minimum_nights',\n",
    "    'number_of_reviews',\n",
    "    'reviews_per_month',\n",
    "    'calculated_host_listings_count',\n",
    "    'availability_365'\n",
    "]]\n",
    "\n",
    "df.columns = df.columns.str.lower().str.replace(' ', '_')\n",
    "categorical_columns = list(df.dtypes[df.dtypes == 'object'].index)\n",
    "numerical_columns = list(df.dtypes[df.dtypes != 'object'].index)\n",
    "numerical_columns.remove('price')\n",
    "\n",
    "for c in categorical_columns:\n",
    "    df[c] = df[c].str.lower().str.replace(' ', '_')\n",
    "\n",
    "df.reviews_per_month = df.reviews_per_month.fillna(0)\n",
    "print(numerical_columns)\n",
    "# df.totalcharges = pd.to_numeric(df.totalcharges, errors='coerce').fillna(0)\n",
    "# df.churn = (df.churn == 'yes').astype(int)"
   ]
  },
  {
   "cell_type": "markdown",
   "id": "b662f5b4",
   "metadata": {},
   "source": [
    "# Question 1\n",
    "What is the most frequent observation (mode) for the column 'neighbourhood_group'?"
   ]
  },
  {
   "cell_type": "code",
   "execution_count": 75,
   "id": "b4079242",
   "metadata": {},
   "outputs": [
    {
     "data": {
      "text/plain": [
       "neighbourhood_group\n",
       "manhattan        21661\n",
       "brooklyn         20104\n",
       "queens            5666\n",
       "bronx             1091\n",
       "staten_island      373\n",
       "dtype: int64"
      ]
     },
     "execution_count": 75,
     "metadata": {},
     "output_type": "execute_result"
    }
   ],
   "source": [
    "df.groupby(['neighbourhood_group']).size().sort_values(ascending=False)"
   ]
  },
  {
   "cell_type": "markdown",
   "id": "3de2427e",
   "metadata": {},
   "source": [
    "## Setting up the validation framework\n",
    "Perform the train/validation/test split with Scikit-Learn"
   ]
  },
  {
   "cell_type": "markdown",
   "id": "d3b43822",
   "metadata": {},
   "source": [
    "# Split the data\n",
    "\n",
    "- Split your data in train/val/test sets, with 60%/20%/20% distribution.\n",
    "- Use Scikit-Learn for that (the train_test_split function) and set the seed to 42.\n",
    "- Make sure that the target value ('price') is not in your dataframe.\n"
   ]
  },
  {
   "cell_type": "code",
   "execution_count": 99,
   "id": "a1dba80b",
   "metadata": {},
   "outputs": [],
   "source": [
    "from sklearn.model_selection import train_test_split\n",
    "\n",
    "df.price = (df.price >= 152).astype(int)\n",
    "df_full_train, df_test = train_test_split(df, test_size=0.2, random_state=42)\n",
    "df_train, df_val = train_test_split(df_full_train, test_size=0.25, random_state=42)\n",
    "\n",
    "df_train = df_train.reset_index(drop=True)\n",
    "df_val = df_val.reset_index(drop=True)\n",
    "df_test = df_test.reset_index(drop=True)\n",
    "\n",
    "y_train = df_train.price.values\n",
    "y_val = df_val.price.values\n",
    "y_test = df_test.price.values\n",
    "\n",
    "del df_train['price']\n",
    "del df_val['price']\n",
    "del df_test['price']\n"
   ]
  },
  {
   "cell_type": "markdown",
   "id": "4479a810",
   "metadata": {},
   "source": [
    "# Question 2\n",
    "- Create the correlation matrix for the numerical features of your train dataset.\n",
    "- In a correlation matrix, you compute the correlation coefficient between every pair of features in the dataset.\n",
    "- What are the two features that have the biggest correlation in this dataset?"
   ]
  },
  {
   "cell_type": "code",
   "execution_count": 100,
   "id": "630899fb",
   "metadata": {},
   "outputs": [
    {
     "data": {
      "text/plain": [
       "['latitude',\n",
       " 'longitude',\n",
       " 'minimum_nights',\n",
       " 'number_of_reviews',\n",
       " 'reviews_per_month',\n",
       " 'calculated_host_listings_count',\n",
       " 'availability_365']"
      ]
     },
     "execution_count": 100,
     "metadata": {},
     "output_type": "execute_result"
    }
   ],
   "source": [
    "numerical_columns"
   ]
  },
  {
   "cell_type": "code",
   "execution_count": 101,
   "id": "845e3b81",
   "metadata": {},
   "outputs": [
    {
     "data": {
      "text/plain": [
       "latitude                          17462\n",
       "longitude                         13527\n",
       "minimum_nights                      100\n",
       "number_of_reviews                   376\n",
       "reviews_per_month                   903\n",
       "calculated_host_listings_count       47\n",
       "availability_365                    366\n",
       "dtype: int64"
      ]
     },
     "execution_count": 101,
     "metadata": {},
     "output_type": "execute_result"
    }
   ],
   "source": [
    "df_full_train = df_full_train.reset_index(drop=True)\n",
    "\n",
    "df_full_train.price.value_counts(normalize=True)\n",
    "\n",
    "df_full_train.price.mean()\n",
    "\n",
    "numerical = numerical_columns\n",
    "categorical = categorical_columns \n",
    "df_full_train[numerical].nunique()"
   ]
  },
  {
   "cell_type": "code",
   "execution_count": 102,
   "id": "2f8fc2f3",
   "metadata": {},
   "outputs": [
    {
     "data": {
      "text/html": [
       "<div>\n",
       "<style scoped>\n",
       "    .dataframe tbody tr th:only-of-type {\n",
       "        vertical-align: middle;\n",
       "    }\n",
       "\n",
       "    .dataframe tbody tr th {\n",
       "        vertical-align: top;\n",
       "    }\n",
       "\n",
       "    .dataframe thead th {\n",
       "        text-align: right;\n",
       "    }\n",
       "</style>\n",
       "<table border=\"1\" class=\"dataframe\">\n",
       "  <thead>\n",
       "    <tr style=\"text-align: right;\">\n",
       "      <th></th>\n",
       "      <th>latitude</th>\n",
       "      <th>longitude</th>\n",
       "      <th>minimum_nights</th>\n",
       "      <th>number_of_reviews</th>\n",
       "      <th>reviews_per_month</th>\n",
       "      <th>calculated_host_listings_count</th>\n",
       "      <th>availability_365</th>\n",
       "    </tr>\n",
       "  </thead>\n",
       "  <tbody>\n",
       "    <tr>\n",
       "      <th>latitude</th>\n",
       "      <td>1.000000</td>\n",
       "      <td>0.080301</td>\n",
       "      <td>0.027441</td>\n",
       "      <td>0.006246</td>\n",
       "      <td>0.007159</td>\n",
       "      <td>0.019375</td>\n",
       "      <td>0.005891</td>\n",
       "    </tr>\n",
       "    <tr>\n",
       "      <th>longitude</th>\n",
       "      <td>0.080301</td>\n",
       "      <td>1.000000</td>\n",
       "      <td>0.060660</td>\n",
       "      <td>0.055084</td>\n",
       "      <td>0.134642</td>\n",
       "      <td>0.117041</td>\n",
       "      <td>0.083666</td>\n",
       "    </tr>\n",
       "    <tr>\n",
       "      <th>minimum_nights</th>\n",
       "      <td>0.027441</td>\n",
       "      <td>0.060660</td>\n",
       "      <td>1.000000</td>\n",
       "      <td>0.076020</td>\n",
       "      <td>0.120703</td>\n",
       "      <td>0.118647</td>\n",
       "      <td>0.138901</td>\n",
       "    </tr>\n",
       "    <tr>\n",
       "      <th>number_of_reviews</th>\n",
       "      <td>0.006246</td>\n",
       "      <td>0.055084</td>\n",
       "      <td>0.076020</td>\n",
       "      <td>1.000000</td>\n",
       "      <td>0.590374</td>\n",
       "      <td>0.073167</td>\n",
       "      <td>0.174477</td>\n",
       "    </tr>\n",
       "    <tr>\n",
       "      <th>reviews_per_month</th>\n",
       "      <td>0.007159</td>\n",
       "      <td>0.134642</td>\n",
       "      <td>0.120703</td>\n",
       "      <td>0.590374</td>\n",
       "      <td>1.000000</td>\n",
       "      <td>0.048767</td>\n",
       "      <td>0.165376</td>\n",
       "    </tr>\n",
       "    <tr>\n",
       "      <th>calculated_host_listings_count</th>\n",
       "      <td>0.019375</td>\n",
       "      <td>0.117041</td>\n",
       "      <td>0.118647</td>\n",
       "      <td>0.073167</td>\n",
       "      <td>0.048767</td>\n",
       "      <td>1.000000</td>\n",
       "      <td>0.225913</td>\n",
       "    </tr>\n",
       "    <tr>\n",
       "      <th>availability_365</th>\n",
       "      <td>0.005891</td>\n",
       "      <td>0.083666</td>\n",
       "      <td>0.138901</td>\n",
       "      <td>0.174477</td>\n",
       "      <td>0.165376</td>\n",
       "      <td>0.225913</td>\n",
       "      <td>1.000000</td>\n",
       "    </tr>\n",
       "  </tbody>\n",
       "</table>\n",
       "</div>"
      ],
      "text/plain": [
       "                                latitude  longitude  minimum_nights  \\\n",
       "latitude                        1.000000   0.080301        0.027441   \n",
       "longitude                       0.080301   1.000000        0.060660   \n",
       "minimum_nights                  0.027441   0.060660        1.000000   \n",
       "number_of_reviews               0.006246   0.055084        0.076020   \n",
       "reviews_per_month               0.007159   0.134642        0.120703   \n",
       "calculated_host_listings_count  0.019375   0.117041        0.118647   \n",
       "availability_365                0.005891   0.083666        0.138901   \n",
       "\n",
       "                                number_of_reviews  reviews_per_month  \\\n",
       "latitude                                 0.006246           0.007159   \n",
       "longitude                                0.055084           0.134642   \n",
       "minimum_nights                           0.076020           0.120703   \n",
       "number_of_reviews                        1.000000           0.590374   \n",
       "reviews_per_month                        0.590374           1.000000   \n",
       "calculated_host_listings_count           0.073167           0.048767   \n",
       "availability_365                         0.174477           0.165376   \n",
       "\n",
       "                                calculated_host_listings_count  \\\n",
       "latitude                                              0.019375   \n",
       "longitude                                             0.117041   \n",
       "minimum_nights                                        0.118647   \n",
       "number_of_reviews                                     0.073167   \n",
       "reviews_per_month                                     0.048767   \n",
       "calculated_host_listings_count                        1.000000   \n",
       "availability_365                                      0.225913   \n",
       "\n",
       "                                availability_365  \n",
       "latitude                                0.005891  \n",
       "longitude                               0.083666  \n",
       "minimum_nights                          0.138901  \n",
       "number_of_reviews                       0.174477  \n",
       "reviews_per_month                       0.165376  \n",
       "calculated_host_listings_count          0.225913  \n",
       "availability_365                        1.000000  "
      ]
     },
     "metadata": {},
     "output_type": "display_data"
    },
    {
     "data": {
      "text/plain": [
       "latitude                        latitude                          1.000000\n",
       "longitude                       longitude                         1.000000\n",
       "calculated_host_listings_count  calculated_host_listings_count    1.000000\n",
       "reviews_per_month               reviews_per_month                 1.000000\n",
       "minimum_nights                  minimum_nights                    1.000000\n",
       "number_of_reviews               number_of_reviews                 1.000000\n",
       "availability_365                availability_365                  1.000000\n",
       "number_of_reviews               reviews_per_month                 0.590374\n",
       "reviews_per_month               number_of_reviews                 0.590374\n",
       "availability_365                calculated_host_listings_count    0.225913\n",
       "calculated_host_listings_count  availability_365                  0.225913\n",
       "availability_365                number_of_reviews                 0.174477\n",
       "number_of_reviews               availability_365                  0.174477\n",
       "availability_365                reviews_per_month                 0.165376\n",
       "reviews_per_month               availability_365                  0.165376\n",
       "availability_365                minimum_nights                    0.138901\n",
       "minimum_nights                  availability_365                  0.138901\n",
       "longitude                       reviews_per_month                 0.134642\n",
       "reviews_per_month               longitude                         0.134642\n",
       "minimum_nights                  reviews_per_month                 0.120703\n",
       "reviews_per_month               minimum_nights                    0.120703\n",
       "minimum_nights                  calculated_host_listings_count    0.118647\n",
       "calculated_host_listings_count  minimum_nights                    0.118647\n",
       "                                longitude                         0.117041\n",
       "longitude                       calculated_host_listings_count    0.117041\n",
       "availability_365                longitude                         0.083666\n",
       "longitude                       availability_365                  0.083666\n",
       "                                latitude                          0.080301\n",
       "latitude                        longitude                         0.080301\n",
       "number_of_reviews               minimum_nights                    0.076020\n",
       "minimum_nights                  number_of_reviews                 0.076020\n",
       "calculated_host_listings_count  number_of_reviews                 0.073167\n",
       "number_of_reviews               calculated_host_listings_count    0.073167\n",
       "longitude                       minimum_nights                    0.060660\n",
       "minimum_nights                  longitude                         0.060660\n",
       "number_of_reviews               longitude                         0.055084\n",
       "longitude                       number_of_reviews                 0.055084\n",
       "calculated_host_listings_count  reviews_per_month                 0.048767\n",
       "reviews_per_month               calculated_host_listings_count    0.048767\n",
       "latitude                        minimum_nights                    0.027441\n",
       "minimum_nights                  latitude                          0.027441\n",
       "calculated_host_listings_count  latitude                          0.019375\n",
       "latitude                        calculated_host_listings_count    0.019375\n",
       "reviews_per_month               latitude                          0.007159\n",
       "latitude                        reviews_per_month                 0.007159\n",
       "                                number_of_reviews                 0.006246\n",
       "number_of_reviews               latitude                          0.006246\n",
       "availability_365                latitude                          0.005891\n",
       "latitude                        availability_365                  0.005891\n",
       "dtype: float64"
      ]
     },
     "execution_count": 102,
     "metadata": {},
     "output_type": "execute_result"
    }
   ],
   "source": [
    "from IPython.display import display\n",
    "\n",
    "corr_matrix = df_train[numerical_columns].corr().abs()\n",
    "display(corr_matrix)\n",
    "\n",
    "corr_matrix.unstack().sort_values(ascending=False)"
   ]
  },
  {
   "cell_type": "markdown",
   "id": "88cd957b",
   "metadata": {},
   "source": [
    "# Make price binary\n",
    "We need to turn the price variable from numeric into binary.\n",
    "Let's create a variable above_average which is 1 if the price is above (or equal to) 152.\n",
    "\n",
    "# Question 3\n",
    "Calculate the mutual information score with the (binarized) price for the two categorical variables that we have (number_of_reviews               reviews_per_month). Use the training set only.\n",
    "Which of these two variables has bigger score?\n",
    "Round it to 2 decimal digits using round(score, 2)"
   ]
  },
  {
   "cell_type": "code",
   "execution_count": 104,
   "id": "83aec357",
   "metadata": {},
   "outputs": [
    {
     "data": {
      "text/plain": [
       "room_type              0.14\n",
       "neighbourhood_group    0.05\n",
       "dtype: float64"
      ]
     },
     "execution_count": 104,
     "metadata": {},
     "output_type": "execute_result"
    }
   ],
   "source": [
    "from sklearn.metrics import mutual_info_score\n",
    "\n",
    "def mutual_info_price_score(series):\n",
    "    above_average = df_full_train.price \n",
    "    return mutual_info_score(series, above_average)\n",
    "\n",
    "mi = df_full_train[categorical_columns].apply(mutual_info_price_score)\n",
    "mi.sort_values(ascending=False).round(2)"
   ]
  },
  {
   "cell_type": "markdown",
   "id": "e0e98a0f",
   "metadata": {},
   "source": [
    "# Question 4\n",
    "Now let's train a logistic regression\n",
    "- Remember that we have two categorical variables in the data. Include them using one-hot encoding.\n",
    "- Fit the model on the training dataset.\n",
    "- To make sure the results are reproducible across different versions of Scikit-Learn, fit the model with these parameters:\n",
    "-- model = LogisticRegression(solver='lbfgs', C=1.0, random_state=42)\n",
    "- Calculate the accuracy on the validation dataset and rount it to 2 decimal digits.\n"
   ]
  },
  {
   "cell_type": "code",
   "execution_count": 105,
   "id": "0e163b48",
   "metadata": {
    "scrolled": true
   },
   "outputs": [
    {
     "name": "stdout",
     "output_type": "stream",
     "text": [
      "[[ 50.       13.       40.7276  ...   1.        0.        0.     ]\n",
      " [  7.        1.       40.70847 ...   0.        1.        0.     ]\n",
      " [  0.        1.       40.83149 ...   1.        0.        0.     ]\n",
      " ...\n",
      " [ 88.        1.       40.79994 ...   0.        1.        0.     ]\n",
      " [  0.        1.       40.69585 ...   0.        1.        0.     ]\n",
      " [281.        2.       40.64438 ...   1.        0.        0.     ]]\n",
      "['availability_365', 'calculated_host_listings_count', 'latitude', 'longitude', 'minimum_nights', 'neighbourhood_group=bronx', 'neighbourhood_group=brooklyn', 'neighbourhood_group=manhattan', 'neighbourhood_group=queens', 'neighbourhood_group=staten_island', 'number_of_reviews', 'reviews_per_month', 'room_type=entire_home/apt', 'room_type=private_room', 'room_type=shared_room']\n",
      "[[ 52.        1.       40.70239 ...   0.        1.        0.     ]\n",
      " [343.        2.       40.68498 ...   1.        0.        0.     ]\n",
      " [260.        1.       40.66911 ...   1.        0.        0.     ]\n",
      " ...\n",
      " [  0.        1.       40.73058 ...   0.        1.        0.     ]\n",
      " [  0.        1.       40.68858 ...   0.        1.        0.     ]\n",
      " [  0.        1.       40.81882 ...   1.        0.        0.     ]]\n"
     ]
    }
   ],
   "source": [
    "from sklearn.feature_extraction import DictVectorizer\n",
    "\n",
    "dv = DictVectorizer(sparse=False)\n",
    "\n",
    "train_dict = df_train[categorical_columns+numerical_columns].to_dict(orient='records')\n",
    "X_train = dv.fit_transform(train_dict)\n",
    "print (X_train)\n",
    "print (dv.get_feature_names())\n",
    "\n",
    "\n",
    "val_dict = df_val[categorical + numerical].to_dict(orient='records')\n",
    "X_val = dv.transform(val_dict)\n",
    "print (X_val)"
   ]
  },
  {
   "cell_type": "code",
   "execution_count": 108,
   "id": "8d330c08",
   "metadata": {},
   "outputs": [
    {
     "data": {
      "text/plain": [
       "0.791"
      ]
     },
     "execution_count": 108,
     "metadata": {},
     "output_type": "execute_result"
    }
   ],
   "source": [
    "from sklearn.linear_model import LogisticRegression\n",
    "\n",
    "model = LogisticRegression(solver='lbfgs', C=1.0, random_state=42, max_iter=10000)\n",
    "model.fit(X_train, y_train)\n",
    "\n",
    "y_pred = model.predict_proba(X_val)[:, 1]\n",
    "\n",
    "price_decision = (y_pred >= 0.5)\n",
    "\n",
    "(y_val == price_decision).mean().round(3)"
   ]
  },
  {
   "cell_type": "markdown",
   "id": "cae1906c",
   "metadata": {},
   "source": [
    "# Question 5\n",
    "- We have 9 features: 7 numerical features and 2 categorical.\n",
    "- Let's find the least useful one using the feature elimination technique.\n",
    "- Train a model with all these features (using the same parameters as in Q4).\n",
    "- Now exclude each feature from this set and train a model without it. Record the accuracy for each model.\n",
    "- For each feature, calculate the difference between the original accuracy and the accuracy without the feature.\n",
    "- Which of following feature has the smallest difference?\n",
    "-- neighbourhood_group\n",
    "-- room_type\n",
    "-- number_of_reviews\n",
    "-- reviews_per_month\n",
    "\n",
    "note: the difference doesn't have to be positive"
   ]
  },
  {
   "cell_type": "code",
   "execution_count": 120,
   "id": "ae6d6a3b",
   "metadata": {
    "scrolled": true
   },
   "outputs": [
    {
     "data": {
      "text/plain": [
       "[('room_type', 0.062000000000000055)]"
      ]
     },
     "execution_count": 120,
     "metadata": {},
     "output_type": "execute_result"
    }
   ],
   "source": [
    "from sklearn.feature_extraction import DictVectorizer\n",
    "\n",
    "from sklearn.linear_model import LogisticRegression\n",
    "\n",
    "def model_training(cols):\n",
    "    dv = DictVectorizer(sparse=False)\n",
    "    train_dict = df_train[cols].to_dict(orient='records')\n",
    "    X_train = dv.fit_transform(train_dict)\n",
    "    val_dict = df_val[cols].to_dict(orient='records')\n",
    "    X_val = dv.transform(val_dict)\n",
    "    \n",
    "    model = LogisticRegression(solver='lbfgs', C=1.0, random_state=42, max_iter=10000)\n",
    "    model.fit(X_train, y_train)\n",
    "    y_pred = model.predict_proba(X_val)[:, 1]\n",
    "    price_decision = (y_pred >= 0.5)\n",
    "    res = (y_val == price_decision).mean().round(3)\n",
    "    return res\n",
    "\n",
    "\n",
    "all_features = categorical_columns+numerical_columns\n",
    "\n",
    "orig_acc = model_training(all_features)\n",
    "res = {}\n",
    "\n",
    "for i in range(len(all_features)):\n",
    "    cols = np.delete(all_features, i)\n",
    "    res[all_features[i]] = orig_acc - model_training(cols)\n",
    "    \n",
    "sorted(res.items(), key=lambda x: x[1], reverse=True)[:1]"
   ]
  },
  {
   "cell_type": "markdown",
   "id": "659c28ec",
   "metadata": {},
   "source": [
    "# Question 6\n",
    "- For this question, we'll see how to use a linear regression model from Scikit-Learn\n",
    "- We'll need to use the original column 'price'. Apply the logarithmic transformation to this column.\n",
    "- Fit the Ridge regression model on the training data.\n",
    "- This model has a parameter alpha. Let's try the following values: [0, 0.01, 0.1, 1, 10]\n",
    "- Which of these alphas leads to the best RMSE on the validation set? Round your RMSE scores to 3 decimal digits.\n",
    "- If there are multiple options, select the smallest alpha."
   ]
  },
  {
   "cell_type": "code",
   "execution_count": 129,
   "id": "c401b8b0",
   "metadata": {},
   "outputs": [
    {
     "data": {
      "text/plain": [
       "[(0, 0.488), (0.01, 0.488), (0.1, 0.488), (1, 0.488), (10, 0.486)]"
      ]
     },
     "execution_count": 129,
     "metadata": {},
     "output_type": "execute_result"
    }
   ],
   "source": [
    "import pandas as pd\n",
    "import numpy as np\n",
    "\n",
    "import matplotlib.pyplot as plt\n",
    "\n",
    "df = pd.read_csv('AB_NYC_2019.csv')\n",
    "\n",
    "df = df[[\n",
    "    'neighbourhood_group',\n",
    "    'room_type',\n",
    "    'latitude',\n",
    "    'longitude',\n",
    "    'price',\n",
    "    'minimum_nights',\n",
    "    'number_of_reviews',\n",
    "    'reviews_per_month',\n",
    "    'calculated_host_listings_count',\n",
    "    'availability_365'\n",
    "]]\n",
    "\n",
    "df.columns = df.columns.str.lower().str.replace(' ', '_')\n",
    "categorical_columns = list(df.dtypes[df.dtypes == 'object'].index)\n",
    "numerical_columns = list(df.dtypes[df.dtypes != 'object'].index)\n",
    "numerical_columns.remove('price')\n",
    "\n",
    "for c in categorical_columns:\n",
    "    df[c] = df[c].str.lower().str.replace(' ', '_')\n",
    "\n",
    "df.reviews_per_month = df.reviews_per_month.fillna(0)\n",
    "\n",
    "from sklearn.model_selection import train_test_split\n",
    "\n",
    "df.price = np.log1p(df.price)\n",
    "\n",
    "\n",
    "df_full_train, df_test = train_test_split(df, test_size=0.2, random_state=42)\n",
    "df_train, df_val = train_test_split(df_full_train, test_size=0.25, random_state=42)\n",
    "\n",
    "df_train = df_train.reset_index(drop=True)\n",
    "df_val = df_val.reset_index(drop=True)\n",
    "df_test = df_test.reset_index(drop=True)\n",
    "\n",
    "y_train = df_train.price.values\n",
    "y_val = df_val.price.values\n",
    "y_test = df_test.price.values\n",
    "\n",
    "del df_train['price']\n",
    "del df_val['price']\n",
    "del df_test['price']\n",
    "\n",
    "\n",
    "from sklearn.feature_extraction import DictVectorizer\n",
    "\n",
    "dv = DictVectorizer(sparse=False)\n",
    "\n",
    "train_dict = df_train[categorical_columns+numerical_columns].to_dict(orient='records')\n",
    "X_train = dv.fit_transform(train_dict)\n",
    "\n",
    "val_dict = df_val[categorical + numerical].to_dict(orient='records')\n",
    "X_val = dv.transform(val_dict)\n",
    "\n",
    "from sklearn.linear_model import Ridge\n",
    "\n",
    "alpha_list = [0, 0.01, 0.1, 1, 10]\n",
    "result = []\n",
    "for i in alpha_list:\n",
    "    model = Ridge(i)\n",
    "    model.fit(X_train, y_train)\n",
    "    score = model.score(X_val, y_val)\n",
    "    result.append((i, score.round(3)))\n",
    "\n",
    "result"
   ]
  }
 ],
 "metadata": {
  "kernelspec": {
   "display_name": "Python 3 (ipykernel)",
   "language": "python",
   "name": "python3"
  },
  "language_info": {
   "codemirror_mode": {
    "name": "ipython",
    "version": 3
   },
   "file_extension": ".py",
   "mimetype": "text/x-python",
   "name": "python",
   "nbconvert_exporter": "python",
   "pygments_lexer": "ipython3",
   "version": "3.8.11"
  }
 },
 "nbformat": 4,
 "nbformat_minor": 5
}
